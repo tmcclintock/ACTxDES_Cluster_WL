{
 "cells": [
  {
   "cell_type": "markdown",
   "metadata": {},
   "source": [
    "# Plotting the data\n",
    "\n",
    "In this notebook we'll just plot the data without any analysis."
   ]
  },
  {
   "cell_type": "code",
   "execution_count": 1,
   "metadata": {},
   "outputs": [],
   "source": [
    "import numpy as np\n",
    "import matplotlib.pyplot as plt\n",
    "%matplotlib inline"
   ]
  },
  {
   "cell_type": "code",
   "execution_count": 2,
   "metadata": {},
   "outputs": [],
   "source": [
    "#Figure formatting\n",
    "plt.rc(\"text\", usetex = True)\n",
    "plt.rc(\"font\", size = 24, family = \"serif\")\n",
    "plt.rc(\"errorbar\", capsize = 3)"
   ]
  },
  {
   "cell_type": "code",
   "execution_count": 3,
   "metadata": {},
   "outputs": [],
   "source": [
    "#Load the data\n",
    "data_object = np.load(\"../data/dsigma_advact_SNRgt5_z0.1-0.9.npz\")\n",
    "cov = data_object[\"cov\"]\n",
    "DeltaSigma = data_object[\"dsigma\"]"
   ]
  },
  {
   "cell_type": "code",
   "execution_count": 4,
   "metadata": {},
   "outputs": [],
   "source": [
    "#Bin edges of our analysis\n",
    "d_lnR = 0.48755 #bin width in ln(R)\n",
    "Redges = np.exp(np.arange(19)*d_lnR + np.log(0.02)) #in Mpc physical"
   ]
  },
  {
   "cell_type": "code",
   "execution_count": 5,
   "metadata": {},
   "outputs": [],
   "source": [
    "#Midpoints of the radial bins, for plotting\n",
    "R = (Redges[:-1] + Redges[1:])/2"
   ]
  },
  {
   "cell_type": "code",
   "execution_count": 6,
   "metadata": {},
   "outputs": [],
   "source": [
    "#Convert R to Mpc/h comoving\n",
    "h = 0.7\n",
    "z = 0.4925 #Median redshift\n",
    "R = R * (1 + z) * h"
   ]
  },
  {
   "cell_type": "code",
   "execution_count": 7,
   "metadata": {},
   "outputs": [
    {
     "name": "stdout",
     "output_type": "stream",
     "text": [
      "(18,)\n",
      "SNR =  1686.3092180447643\n"
     ]
    }
   ],
   "source": [
    "#Compute the SNR of the profile\n",
    "print(DeltaSigma.shape)\n",
    "print(\"SNR = \", np.dot(DeltaSigma, np.linalg.solve(cov, DeltaSigma)))"
   ]
  },
  {
   "cell_type": "code",
   "execution_count": 8,
   "metadata": {},
   "outputs": [
    {
     "data": {
      "text/plain": [
       "Text(0, 0.5, '$\\\\Delta\\\\Sigma\\\\ [h{\\\\rm M_\\\\odot/pc}^2]$')"
      ]
     },
     "execution_count": 8,
     "metadata": {},
     "output_type": "execute_result"
    },
    {
     "data": {
      "image/png": "[encoded data removed]",
      "text/plain": [
       "<Figure size 432x288 with 1 Axes>"
      ]
     },
     "metadata": {
      "needs_background": "light"
     },
     "output_type": "display_data"
    }
   ],
   "source": [
    "#Plot the lensing profile\n",
    "plt.errorbar(R, DeltaSigma, np.sqrt(cov.diagonal()), ls='', c='k', marker='o')\n",
    "plt.axvline(0.2, c='k', ls='--') #Below 200 kpc/h we don't trust the profile\n",
    "plt.loglog()\n",
    "plt.xlabel(r\"$R\\ [h^{-1}{\\rm Mpc}]$\")\n",
    "plt.ylabel(r\"$\\Delta\\Sigma\\ [h{\\rm M_\\odot/pc}^2]$\")"
   ]
  },
  {
   "cell_type": "code",
   "execution_count": 10,
   "metadata": {},
   "outputs": [
    {
     "data": {
      "text/plain": [
       "<matplotlib.colorbar.Colorbar at 0x10f1a0f60>"
      ]
     },
     "execution_count": 10,
     "metadata": {},
     "output_type": "execute_result"
    },
    {
     "data": {
      "image/png": "[encoded data removed]",
      "text/plain": [
       "<Figure size 432x288 with 2 Axes>"
      ]
     },
     "metadata": {
      "needs_background": "light"
     },
     "output_type": "display_data"
    }
   ],
   "source": [
    "#Plot the correlation matrix\n",
    "D = np.sqrt(np.diag(cov.diagonal()))\n",
    "Dinv = np.linalg.inv(D)\n",
    "corr = np.dot(Dinv, np.dot(cov, Dinv))\n",
    "plt.imshow(corr)\n",
    "plt.colorbar()"
   ]
  },
  {
   "cell_type": "code",
   "execution_count": null,
   "metadata": {},
   "outputs": [],
   "source": []
  }
 ],
 "metadata": {
  "kernelspec": {
   "display_name": "Python 3",
   "language": "python",
   "name": "python3"
  },
  "language_info": {
   "codemirror_mode": {
    "name": "ipython",
    "version": 3
   },
   "file_extension": ".py",
   "mimetype": "text/x-python",
   "name": "python",
   "nbconvert_exporter": "python",
   "pygments_lexer": "ipython3",
   "version": "3.6.7"
  }
 },
 "nbformat": 4,
 "nbformat_minor": 2
}
